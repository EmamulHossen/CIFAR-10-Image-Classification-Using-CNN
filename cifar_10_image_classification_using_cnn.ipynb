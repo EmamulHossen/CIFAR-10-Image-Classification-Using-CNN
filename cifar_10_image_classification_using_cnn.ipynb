{
  "cells": [
    {
      "cell_type": "markdown",
      "metadata": {
        "id": "view-in-github",
        "colab_type": "text"
      },
      "source": [
        "<a href=\"https://colab.research.google.com/github/EmamulHossen/CIFAR-10-Image-Classification-Using-CNN/blob/main/cifar_10_image_classification_using_cnn.ipynb\" target=\"_parent\"><img src=\"https://colab.research.google.com/assets/colab-badge.svg\" alt=\"Open In Colab\"/></a>"
      ]
    },
    {
      "cell_type": "markdown",
      "id": "f9c7814d",
      "metadata": {
        "papermill": {
          "duration": 0.00526,
          "end_time": "2023-10-29T03:45:22.424033",
          "exception": false,
          "start_time": "2023-10-29T03:45:22.418773",
          "status": "completed"
        },
        "tags": [],
        "id": "f9c7814d"
      },
      "source": [
        "# **CIFAR-10**\n",
        "\n",
        "**The CIFAR-10 dataset (Canadian Institute for Advanced Research, 10 classes) is a subset of the Tiny Images dataset and consists of 60000 32x32 color images. The images are labelled with one of 10 mutually exclusive classes: airplane, automobile (but not truck or pickup truck), bird, cat, deer, dog, frog, horse, ship, and truck (but not pickup truck). There are 6000 images per class with 5000 training and 1000 testing images per cl**ass.\n",
        "\n",
        "**Classes: The ten classes in CIFAR-10 are as follows:**\n",
        "1. **Airplane**<br/>\n",
        "2. **Automobile**<br/>\n",
        "3. **Bird**<br/>\n",
        "4. **Cat**<br/>\n",
        "5. **Deer**<br/>\n",
        "6. **Dog**<br/>\n",
        "7. **Frog**<br/>\n",
        "8. **Horse**<br/>\n",
        "9. **Ship**<br/>\n",
        "10. **Truck**<br/>\n",
        "\n",
        "![](https://kibernetika.ai/wp-content/uploads/2018/11/CIFAR-10.png)"
      ]
    },
    {
      "cell_type": "markdown",
      "id": "96b7cd27",
      "metadata": {
        "papermill": {
          "duration": 0.004405,
          "end_time": "2023-10-29T03:45:22.433303",
          "exception": false,
          "start_time": "2023-10-29T03:45:22.428898",
          "status": "completed"
        },
        "tags": [],
        "id": "96b7cd27"
      },
      "source": [
        "# **Import Requirement Modules**"
      ]
    },
    {
      "cell_type": "code",
      "execution_count": 1,
      "id": "5b73797b",
      "metadata": {
        "execution": {
          "iopub.execute_input": "2023-10-29T03:45:22.443807Z",
          "iopub.status.busy": "2023-10-29T03:45:22.443512Z",
          "iopub.status.idle": "2023-10-29T03:45:30.722062Z",
          "shell.execute_reply": "2023-10-29T03:45:30.721288Z"
        },
        "id": "5b73797b",
        "papermill": {
          "duration": 8.286523,
          "end_time": "2023-10-29T03:45:30.724432",
          "exception": false,
          "start_time": "2023-10-29T03:45:22.437909",
          "status": "completed"
        },
        "tags": []
      },
      "outputs": [],
      "source": [
        "import tensorflow as tf\n",
        "from tensorflow import keras\n",
        "from keras.layers import Dense\n",
        "from keras.layers import Flatten\n",
        "from tensorflow.keras import layers\n",
        "from tensorflow.keras import models, layers\n",
        "from tensorflow.keras.models import Model\n",
        "from tensorflow.keras import datasets\n",
        "from tensorflow.keras.models import Sequential\n",
        "from tensorflow.keras.optimizers import Adam\n",
        "import matplotlib.pyplot as plt\n",
        "\n"
      ]
    },
    {
      "cell_type": "code",
      "execution_count": 2,
      "id": "d824617c",
      "metadata": {
        "execution": {
          "iopub.execute_input": "2023-10-29T03:45:30.735813Z",
          "iopub.status.busy": "2023-10-29T03:45:30.735301Z",
          "iopub.status.idle": "2023-10-29T03:45:30.740051Z",
          "shell.execute_reply": "2023-10-29T03:45:30.739265Z"
        },
        "id": "d824617c",
        "papermill": {
          "duration": 0.012265,
          "end_time": "2023-10-29T03:45:30.741915",
          "exception": false,
          "start_time": "2023-10-29T03:45:30.729650",
          "status": "completed"
        },
        "tags": []
      },
      "outputs": [],
      "source": [
        "EPOCHS =10\n",
        "num_classes = 10\n",
        "batch_size = 64 #It determines the number of data samples that are processed by the model in each forward and backward pass (also known as an iteration or training step) of a single training epoch.\n",
        "image_size = 32\n",
        "input_shape = (image_size, image_size, 3) #Image height,image width & Color Channel\n"
      ]
    },
    {
      "cell_type": "code",
      "execution_count": 3,
      "id": "55fbe370",
      "metadata": {
        "execution": {
          "iopub.execute_input": "2023-10-29T03:45:30.752424Z",
          "iopub.status.busy": "2023-10-29T03:45:30.752144Z",
          "iopub.status.idle": "2023-10-29T03:45:42.103073Z",
          "shell.execute_reply": "2023-10-29T03:45:42.102185Z"
        },
        "id": "55fbe370",
        "papermill": {
          "duration": 11.358881,
          "end_time": "2023-10-29T03:45:42.105502",
          "exception": false,
          "start_time": "2023-10-29T03:45:30.746621",
          "status": "completed"
        },
        "tags": [],
        "colab": {
          "base_uri": "https://localhost:8080/"
        },
        "outputId": "77e54d69-0ac1-4018-d3a1-4da10020d2c5"
      },
      "outputs": [
        {
          "output_type": "stream",
          "name": "stdout",
          "text": [
            "Downloading data from https://www.cs.toronto.edu/~kriz/cifar-10-python.tar.gz\n",
            "170498071/170498071 [==============================] - 6s 0us/step\n"
          ]
        }
      ],
      "source": [
        "#Load dataset\n",
        "(train_img,train_label),(test_img,test_label)=datasets.cifar10.load_data()\n",
        "\n",
        "#Normalize the train_img & test_img\n",
        "train_img ,test_img =train_img/255.0  ,test_img/255.0\n"
      ]
    },
    {
      "cell_type": "code",
      "execution_count": 4,
      "id": "0f4dc54a",
      "metadata": {
        "execution": {
          "iopub.execute_input": "2023-10-29T03:45:42.136712Z",
          "iopub.status.busy": "2023-10-29T03:45:42.135920Z",
          "iopub.status.idle": "2023-10-29T03:45:42.143450Z",
          "shell.execute_reply": "2023-10-29T03:45:42.142530Z"
        },
        "id": "0f4dc54a",
        "outputId": "b017a866-61b7-49c6-afa5-834fa678bab6",
        "papermill": {
          "duration": 0.024951,
          "end_time": "2023-10-29T03:45:42.145417",
          "exception": false,
          "start_time": "2023-10-29T03:45:42.120466",
          "status": "completed"
        },
        "tags": [],
        "colab": {
          "base_uri": "https://localhost:8080/"
        }
      },
      "outputs": [
        {
          "output_type": "execute_result",
          "data": {
            "text/plain": [
              "((50000, 32, 32, 3), (10000, 32, 32, 3))"
            ]
          },
          "metadata": {},
          "execution_count": 4
        }
      ],
      "source": [
        "train_img.shape,test_img.shape #Traing image shape & test image shape.Here the number of train image 50000 & the number of test image 10000"
      ]
    },
    {
      "cell_type": "code",
      "execution_count": 5,
      "id": "4e5fb424",
      "metadata": {
        "execution": {
          "iopub.execute_input": "2023-10-29T03:45:42.173152Z",
          "iopub.status.busy": "2023-10-29T03:45:42.172864Z",
          "iopub.status.idle": "2023-10-29T03:45:42.179451Z",
          "shell.execute_reply": "2023-10-29T03:45:42.178585Z"
        },
        "papermill": {
          "duration": 0.023188,
          "end_time": "2023-10-29T03:45:42.181924",
          "exception": false,
          "start_time": "2023-10-29T03:45:42.158736",
          "status": "completed"
        },
        "tags": [],
        "colab": {
          "base_uri": "https://localhost:8080/"
        },
        "id": "4e5fb424",
        "outputId": "060456f4-d8e9-4e0f-c775-23d328c25dbb"
      },
      "outputs": [
        {
          "output_type": "stream",
          "name": "stdout",
          "text": [
            "[[[0.23137255 0.24313725 0.24705882]\n",
            "  [0.16862745 0.18039216 0.17647059]\n",
            "  [0.19607843 0.18823529 0.16862745]\n",
            "  ...\n",
            "  [0.61960784 0.51764706 0.42352941]\n",
            "  [0.59607843 0.49019608 0.4       ]\n",
            "  [0.58039216 0.48627451 0.40392157]]\n",
            "\n",
            " [[0.0627451  0.07843137 0.07843137]\n",
            "  [0.         0.         0.        ]\n",
            "  [0.07058824 0.03137255 0.        ]\n",
            "  ...\n",
            "  [0.48235294 0.34509804 0.21568627]\n",
            "  [0.46666667 0.3254902  0.19607843]\n",
            "  [0.47843137 0.34117647 0.22352941]]\n",
            "\n",
            " [[0.09803922 0.09411765 0.08235294]\n",
            "  [0.0627451  0.02745098 0.        ]\n",
            "  [0.19215686 0.10588235 0.03137255]\n",
            "  ...\n",
            "  [0.4627451  0.32941176 0.19607843]\n",
            "  [0.47058824 0.32941176 0.19607843]\n",
            "  [0.42745098 0.28627451 0.16470588]]\n",
            "\n",
            " ...\n",
            "\n",
            " [[0.81568627 0.66666667 0.37647059]\n",
            "  [0.78823529 0.6        0.13333333]\n",
            "  [0.77647059 0.63137255 0.10196078]\n",
            "  ...\n",
            "  [0.62745098 0.52156863 0.2745098 ]\n",
            "  [0.21960784 0.12156863 0.02745098]\n",
            "  [0.20784314 0.13333333 0.07843137]]\n",
            "\n",
            " [[0.70588235 0.54509804 0.37647059]\n",
            "  [0.67843137 0.48235294 0.16470588]\n",
            "  [0.72941176 0.56470588 0.11764706]\n",
            "  ...\n",
            "  [0.72156863 0.58039216 0.36862745]\n",
            "  [0.38039216 0.24313725 0.13333333]\n",
            "  [0.3254902  0.20784314 0.13333333]]\n",
            "\n",
            " [[0.69411765 0.56470588 0.45490196]\n",
            "  [0.65882353 0.50588235 0.36862745]\n",
            "  [0.70196078 0.55686275 0.34117647]\n",
            "  ...\n",
            "  [0.84705882 0.72156863 0.54901961]\n",
            "  [0.59215686 0.4627451  0.32941176]\n",
            "  [0.48235294 0.36078431 0.28235294]]]\n"
          ]
        }
      ],
      "source": [
        "#first train_img normalized value.\n",
        "print(train_img[0])"
      ]
    },
    {
      "cell_type": "code",
      "execution_count": 6,
      "id": "8a0253a6",
      "metadata": {
        "execution": {
          "iopub.execute_input": "2023-10-29T03:45:42.209475Z",
          "iopub.status.busy": "2023-10-29T03:45:42.209195Z",
          "iopub.status.idle": "2023-10-29T03:45:45.383714Z",
          "shell.execute_reply": "2023-10-29T03:45:45.382716Z"
        },
        "id": "8a0253a6",
        "papermill": {
          "duration": 3.190895,
          "end_time": "2023-10-29T03:45:45.385953",
          "exception": false,
          "start_time": "2023-10-29T03:45:42.195058",
          "status": "completed"
        },
        "tags": []
      },
      "outputs": [],
      "source": [
        "#Define the CNN Model\n",
        "\n",
        "model=Sequential() #Sequential API is used to create models layer-by-layer\n",
        "#Input Layer\n",
        "model.add(layers.Conv2D(32,(3,3),strides=(1,1), activation='relu', padding=\"same\", input_shape=(image_size,image_size,3)))\n",
        "model.add(layers.MaxPooling2D(pool_size=(2,2)))\n",
        "model.add(layers.Dropout(0.2))\n",
        "model.add(layers.BatchNormalization())\n",
        "\n",
        "\n",
        "# First Convolutional Layer\n",
        "model.add(layers.Conv2D(64,(3,3),strides=(1,1), activation='relu', padding=\"same\"))\n",
        "model.add(layers.MaxPooling2D(pool_size=(2,2)))\n",
        "model.add(layers.Dropout(0.2))  #Dropout is a regularization technique used in neural networks to prevent overfitting.\n",
        "model.add(layers.BatchNormalization())\n",
        "#BatchNormalization is a technique commonly used in deep neural networksto improve training stability and accelerate convergence.\n",
        "\n",
        "\n",
        "# Second Convolutional Layer\n",
        "model.add(layers.Conv2D(64,(3,3),strides=(1,1), activation='relu', padding=\"same\"))\n",
        "model.add(layers.MaxPooling2D(pool_size=(2,2)))\n",
        "model.add(layers.Dropout(0.2))\n",
        "model.add(layers.BatchNormalization())\n",
        "\n",
        "\n",
        "# Third Convolutional Layer\n",
        "model.add(layers.Conv2D(128,(3,3),strides=(1,1), activation='relu', padding=\"same\"))\n",
        "model.add(layers.MaxPooling2D(pool_size=(2,2)))\n",
        "model.add(layers.Dropout(0.2))\n",
        "model.add(layers.BatchNormalization())\n",
        "\n",
        "\n",
        "\n",
        "#Fully Connected Layer\n",
        "model.add(layers.Flatten())\n",
        "model.add(layers.Dropout(0.2))\n",
        "\n",
        "#Dense Layer\n",
        "model.add(layers.Dense(256,activation=\"relu\"))\n",
        "model.add(layers.Dropout(0.2))\n",
        "model.add(layers.BatchNormalization())\n",
        "\n",
        "#final Layer\n",
        "model.add(layers.Dense(10,activation=\"softmax\"))\n"
      ]
    },
    {
      "cell_type": "code",
      "execution_count": 7,
      "id": "8b432ce0",
      "metadata": {
        "execution": {
          "iopub.execute_input": "2023-10-29T03:45:45.412983Z",
          "iopub.status.busy": "2023-10-29T03:45:45.412662Z",
          "iopub.status.idle": "2023-10-29T03:45:45.471439Z",
          "shell.execute_reply": "2023-10-29T03:45:45.470497Z"
        },
        "id": "8b432ce0",
        "outputId": "1e623601-214d-4592-8dd6-ed8250e77a1f",
        "papermill": {
          "duration": 0.083764,
          "end_time": "2023-10-29T03:45:45.482748",
          "exception": false,
          "start_time": "2023-10-29T03:45:45.398984",
          "status": "completed"
        },
        "tags": [],
        "colab": {
          "base_uri": "https://localhost:8080/"
        }
      },
      "outputs": [
        {
          "output_type": "stream",
          "name": "stdout",
          "text": [
            "Model: \"sequential\"\n",
            "_________________________________________________________________\n",
            " Layer (type)                Output Shape              Param #   \n",
            "=================================================================\n",
            " conv2d (Conv2D)             (None, 32, 32, 32)        896       \n",
            "                                                                 \n",
            " max_pooling2d (MaxPooling2  (None, 16, 16, 32)        0         \n",
            " D)                                                              \n",
            "                                                                 \n",
            " dropout (Dropout)           (None, 16, 16, 32)        0         \n",
            "                                                                 \n",
            " batch_normalization (Batch  (None, 16, 16, 32)        128       \n",
            " Normalization)                                                  \n",
            "                                                                 \n",
            " conv2d_1 (Conv2D)           (None, 16, 16, 64)        18496     \n",
            "                                                                 \n",
            " max_pooling2d_1 (MaxPoolin  (None, 8, 8, 64)          0         \n",
            " g2D)                                                            \n",
            "                                                                 \n",
            " dropout_1 (Dropout)         (None, 8, 8, 64)          0         \n",
            "                                                                 \n",
            " batch_normalization_1 (Bat  (None, 8, 8, 64)          256       \n",
            " chNormalization)                                                \n",
            "                                                                 \n",
            " conv2d_2 (Conv2D)           (None, 8, 8, 64)          36928     \n",
            "                                                                 \n",
            " max_pooling2d_2 (MaxPoolin  (None, 4, 4, 64)          0         \n",
            " g2D)                                                            \n",
            "                                                                 \n",
            " dropout_2 (Dropout)         (None, 4, 4, 64)          0         \n",
            "                                                                 \n",
            " batch_normalization_2 (Bat  (None, 4, 4, 64)          256       \n",
            " chNormalization)                                                \n",
            "                                                                 \n",
            " conv2d_3 (Conv2D)           (None, 4, 4, 128)         73856     \n",
            "                                                                 \n",
            " max_pooling2d_3 (MaxPoolin  (None, 2, 2, 128)         0         \n",
            " g2D)                                                            \n",
            "                                                                 \n",
            " dropout_3 (Dropout)         (None, 2, 2, 128)         0         \n",
            "                                                                 \n",
            " batch_normalization_3 (Bat  (None, 2, 2, 128)         512       \n",
            " chNormalization)                                                \n",
            "                                                                 \n",
            " flatten (Flatten)           (None, 512)               0         \n",
            "                                                                 \n",
            " dropout_4 (Dropout)         (None, 512)               0         \n",
            "                                                                 \n",
            " dense (Dense)               (None, 256)               131328    \n",
            "                                                                 \n",
            " dropout_5 (Dropout)         (None, 256)               0         \n",
            "                                                                 \n",
            " batch_normalization_4 (Bat  (None, 256)               1024      \n",
            " chNormalization)                                                \n",
            "                                                                 \n",
            " dense_1 (Dense)             (None, 10)                2570      \n",
            "                                                                 \n",
            "=================================================================\n",
            "Total params: 266250 (1.02 MB)\n",
            "Trainable params: 265162 (1.01 MB)\n",
            "Non-trainable params: 1088 (4.25 KB)\n",
            "_________________________________________________________________\n"
          ]
        }
      ],
      "source": [
        "model.summary()"
      ]
    },
    {
      "cell_type": "code",
      "execution_count": 8,
      "id": "3d82c260",
      "metadata": {
        "execution": {
          "iopub.execute_input": "2023-10-29T03:45:45.518135Z",
          "iopub.status.busy": "2023-10-29T03:45:45.517848Z",
          "iopub.status.idle": "2023-10-29T03:46:51.134605Z",
          "shell.execute_reply": "2023-10-29T03:46:51.133518Z"
        },
        "id": "3d82c260",
        "outputId": "934fc8a7-bac2-45c1-823e-37b6ec251537",
        "papermill": {
          "duration": 65.63687,
          "end_time": "2023-10-29T03:46:51.136727",
          "exception": false,
          "start_time": "2023-10-29T03:45:45.499857",
          "status": "completed"
        },
        "tags": [],
        "colab": {
          "base_uri": "https://localhost:8080/"
        }
      },
      "outputs": [
        {
          "output_type": "stream",
          "name": "stdout",
          "text": [
            "Epoch 1/10\n"
          ]
        },
        {
          "output_type": "stream",
          "name": "stderr",
          "text": [
            "/usr/local/lib/python3.10/dist-packages/keras/src/backend.py:5729: UserWarning: \"`sparse_categorical_crossentropy` received `from_logits=True`, but the `output` argument was produced by a Softmax activation and thus does not represent logits. Was this intended?\n",
            "  output, from_logits = _get_logits(\n"
          ]
        },
        {
          "output_type": "stream",
          "name": "stdout",
          "text": [
            "782/782 [==============================] - 28s 15ms/step - loss: 1.6978 - accuracy: 0.3963 - val_loss: 1.8105 - val_accuracy: 0.3907\n",
            "Epoch 2/10\n",
            "782/782 [==============================] - 10s 13ms/step - loss: 1.2656 - accuracy: 0.5434 - val_loss: 1.1889 - val_accuracy: 0.5636\n",
            "Epoch 3/10\n",
            "782/782 [==============================] - 10s 13ms/step - loss: 1.0876 - accuracy: 0.6094 - val_loss: 1.1742 - val_accuracy: 0.5824\n",
            "Epoch 4/10\n",
            "782/782 [==============================] - 10s 13ms/step - loss: 0.9839 - accuracy: 0.6507 - val_loss: 0.9783 - val_accuracy: 0.6596\n",
            "Epoch 5/10\n",
            "782/782 [==============================] - 10s 13ms/step - loss: 0.9165 - accuracy: 0.6767 - val_loss: 1.2642 - val_accuracy: 0.5761\n",
            "Epoch 6/10\n",
            "782/782 [==============================] - 10s 13ms/step - loss: 0.8701 - accuracy: 0.6926 - val_loss: 0.8839 - val_accuracy: 0.6873\n",
            "Epoch 7/10\n",
            "782/782 [==============================] - 10s 13ms/step - loss: 0.8271 - accuracy: 0.7102 - val_loss: 0.7095 - val_accuracy: 0.7517\n",
            "Epoch 8/10\n",
            "782/782 [==============================] - 11s 14ms/step - loss: 0.7950 - accuracy: 0.7211 - val_loss: 0.9363 - val_accuracy: 0.6750\n",
            "Epoch 9/10\n",
            "782/782 [==============================] - 10s 12ms/step - loss: 0.7681 - accuracy: 0.7305 - val_loss: 0.7849 - val_accuracy: 0.7218\n",
            "Epoch 10/10\n",
            "782/782 [==============================] - 10s 13ms/step - loss: 0.7494 - accuracy: 0.7359 - val_loss: 0.7159 - val_accuracy: 0.7521\n",
            "Total time:  122.15200781822205 seconds\n"
          ]
        }
      ],
      "source": [
        "#Compile the model\n",
        "model.compile(optimizer=\"adam\",\n",
        "                 loss=tf.keras.losses.SparseCategoricalCrossentropy(from_logits=True),\n",
        "                 metrics=['accuracy'])\n",
        "\n",
        "#-------------------------------------------------------------------------------\n",
        "import time\n",
        "start = time.time()\n",
        "history = model.fit(\n",
        "    x=train_img,\n",
        "    y=train_label,\n",
        "    batch_size=batch_size,\n",
        "    validation_data=(test_img, test_label),\n",
        "    epochs=EPOCHS,\n",
        ")\n",
        "print(\"Total time: \", time.time() - start, \"seconds\")"
      ]
    },
    {
      "cell_type": "code",
      "execution_count": 9,
      "id": "6d121c26",
      "metadata": {
        "execution": {
          "iopub.execute_input": "2023-10-29T03:46:51.353070Z",
          "iopub.status.busy": "2023-10-29T03:46:51.352334Z",
          "iopub.status.idle": "2023-10-29T03:46:52.654326Z",
          "shell.execute_reply": "2023-10-29T03:46:52.653521Z"
        },
        "papermill": {
          "duration": 1.390769,
          "end_time": "2023-10-29T03:46:52.656295",
          "exception": false,
          "start_time": "2023-10-29T03:46:51.265526",
          "status": "completed"
        },
        "tags": [],
        "colab": {
          "base_uri": "https://localhost:8080/"
        },
        "id": "6d121c26",
        "outputId": "291d76a3-6cf8-40a7-f29a-d25f056932dc"
      },
      "outputs": [
        {
          "output_type": "stream",
          "name": "stdout",
          "text": [
            "313/313 [==============================] - 2s 5ms/step - loss: 0.7159 - accuracy: 0.7521\n"
          ]
        }
      ],
      "source": [
        "scores=model.evaluate(test_img, test_label)\n"
      ]
    },
    {
      "cell_type": "code",
      "execution_count": 10,
      "id": "ec9a2ba7",
      "metadata": {
        "execution": {
          "iopub.execute_input": "2023-10-29T03:46:52.834371Z",
          "iopub.status.busy": "2023-10-29T03:46:52.834020Z",
          "iopub.status.idle": "2023-10-29T03:46:52.838917Z",
          "shell.execute_reply": "2023-10-29T03:46:52.838030Z"
        },
        "id": "ec9a2ba7",
        "papermill": {
          "duration": 0.095548,
          "end_time": "2023-10-29T03:46:52.840961",
          "exception": false,
          "start_time": "2023-10-29T03:46:52.745413",
          "status": "completed"
        },
        "tags": []
      },
      "outputs": [],
      "source": [
        "acc = history.history['accuracy']\n",
        "val_acc = history.history['val_accuracy']\n",
        "\n",
        "loss = history.history['loss']\n",
        "val_loss = history.history['val_loss']"
      ]
    },
    {
      "cell_type": "code",
      "execution_count": 11,
      "id": "39dc1801",
      "metadata": {
        "execution": {
          "iopub.execute_input": "2023-10-29T03:46:53.015244Z",
          "iopub.status.busy": "2023-10-29T03:46:53.014930Z",
          "iopub.status.idle": "2023-10-29T03:46:55.108684Z",
          "shell.execute_reply": "2023-10-29T03:46:55.107797Z"
        },
        "id": "39dc1801",
        "outputId": "9dc0f73e-1219-4b53-e38e-02e28fd2f1b7",
        "papermill": {
          "duration": 2.183964,
          "end_time": "2023-10-29T03:46:55.110961",
          "exception": false,
          "start_time": "2023-10-29T03:46:52.926997",
          "status": "completed"
        },
        "tags": [],
        "colab": {
          "base_uri": "https://localhost:8080/",
          "height": 468
        }
      },
      "outputs": [
        {
          "output_type": "display_data",
          "data": {
            "text/plain": [
              "<Figure size 1500x500 with 2 Axes>"
            ],
            "image/png": "[encoded data removed]"
          },
          "metadata": {}
        }
      ],
      "source": [
        "plt.figure(figsize=(15, 5))\n",
        "plt.subplot(1, 2, 1)\n",
        "plt.plot(range(EPOCHS), acc, label='Training Accuracy')\n",
        "plt.plot(range(EPOCHS), val_acc, label='Validation Accuracy')\n",
        "plt.legend(loc='lower right')\n",
        "plt.title('Training and Validation Accuracy')\n",
        "\n",
        "plt.subplot(1, 2, 2)\n",
        "plt.plot(range(EPOCHS), loss, label='Training Loss')\n",
        "plt.plot(range(EPOCHS), val_loss, label='Validation Loss')\n",
        "plt.legend(loc='upper right')\n",
        "plt.title('Training and Validation Loss')\n",
        "plt.savefig('accuracy_loss_curve.png', dpi=500)\n",
        "plt.show()"
      ]
    }
  ],
  "metadata": {
    "kernelspec": {
      "display_name": "Python 3",
      "name": "python3"
    },
    "language_info": {
      "codemirror_mode": {
        "name": "ipython",
        "version": 3
      },
      "file_extension": ".py",
      "mimetype": "text/x-python",
      "name": "python",
      "nbconvert_exporter": "python",
      "pygments_lexer": "ipython3",
      "version": "3.10.12"
    },
    "papermill": {
      "default_parameters": {},
      "duration": 98.51676,
      "end_time": "2023-10-29T03:46:57.639476",
      "environment_variables": {},
      "exception": null,
      "input_path": "__notebook__.ipynb",
      "output_path": "__notebook__.ipynb",
      "parameters": {},
      "start_time": "2023-10-29T03:45:19.122716",
      "version": "2.4.0"
    },
    "colab": {
      "provenance": [],
      "gpuType": "T4",
      "include_colab_link": true
    },
    "accelerator": "GPU"
  },
  "nbformat": 4,
  "nbformat_minor": 5
}